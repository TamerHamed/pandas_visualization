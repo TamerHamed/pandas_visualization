{
  "nbformat": 4,
  "nbformat_minor": 0,
  "metadata": {
    "kernelspec": {
      "display_name": "Python 3",
      "language": "python",
      "name": "python3"
    },
    "language_info": {
      "codemirror_mode": {
        "name": "ipython",
        "version": 3
      },
      "file_extension": ".py",
      "mimetype": "text/x-python",
      "name": "python",
      "nbconvert_exporter": "python",
      "pygments_lexer": "ipython3",
      "version": "3.7.3"
    },
    "colab": {
      "name": "ufo-timeline.ipynb",
      "provenance": []
    }
  },
  "cells": [
    {
      "cell_type": "code",
      "metadata": {
        "id": "iRy6DfsG76p5",
        "colab_type": "code",
        "colab": {}
      },
      "source": [
        "import pandas as pd\n",
        "from pathlib import Path\n",
        "import matplotlib.pyplot as plt\n",
        "import seaborn as sns\n"
      ],
      "execution_count": 4,
      "outputs": []
    },
    {
      "cell_type": "code",
      "metadata": {
        "id": "jO_gv4YG76p9",
        "colab_type": "code",
        "colab": {
          "base_uri": "https://localhost:8080/",
          "height": 35
        },
        "outputId": "2ab97ac7-bc9e-49f6-8547-4a366b44d655"
      },
      "source": [
        "# Read in the dataset\n",
        "ufo = pd.read_csv('https://raw.githubusercontent.com/austinlasseter/pandas_visualization/master/data/ufo.csv')\n",
        "ufo.columns"
      ],
      "execution_count": 6,
      "outputs": [
        {
          "output_type": "execute_result",
          "data": {
            "text/plain": [
              "Index(['City', 'Colors Reported', 'Shape Reported', 'State', 'Time'], dtype='object')"
            ]
          },
          "metadata": {
            "tags": []
          },
          "execution_count": 6
        }
      ]
    },
    {
      "cell_type": "code",
      "metadata": {
        "id": "E60083_f76qD",
        "colab_type": "code",
        "colab": {}
      },
      "source": [
        "# Check out the time variable\n",
        "ufo['Time'].describe()"
      ],
      "execution_count": null,
      "outputs": []
    },
    {
      "cell_type": "code",
      "metadata": {
        "id": "mA5aP__v76qG",
        "colab_type": "code",
        "colab": {}
      },
      "source": [
        "# What type of var is it?\n",
        "ufo['Time'].dtype"
      ],
      "execution_count": null,
      "outputs": []
    },
    {
      "cell_type": "code",
      "metadata": {
        "id": "raC8SU-p76qK",
        "colab_type": "code",
        "colab": {}
      },
      "source": [
        "# convert a string to the datetime format\n",
        "ufo['Time'] = pd.to_datetime(ufo['Time'])\n",
        "ufo['Time'].dtype # Now it's dt format"
      ],
      "execution_count": null,
      "outputs": []
    },
    {
      "cell_type": "code",
      "metadata": {
        "id": "H2GjHy9d76qN",
        "colab_type": "code",
        "colab": {}
      },
      "source": [
        "ufo['Date'] = ufo['Time'].dt.date\n",
        "ufo.head()"
      ],
      "execution_count": null,
      "outputs": []
    },
    {
      "cell_type": "code",
      "metadata": {
        "id": "G9-liUes76qR",
        "colab_type": "code",
        "colab": {}
      },
      "source": [
        "# Create some additional variables\n",
        "ufo['Year']=ufo['Time'].dt.year \n",
        "ufo['Month']=ufo['Time'].dt.month \n",
        "ufo['Day']=ufo['Time'].dt.day \n",
        "ufo['Hour']=ufo['Time'].dt.hour \n",
        "ufo['Weekday']=ufo['Time'].dt.weekday \n",
        "ufo.head()"
      ],
      "execution_count": null,
      "outputs": []
    },
    {
      "cell_type": "code",
      "metadata": {
        "id": "g6GiTatm76qV",
        "colab_type": "code",
        "colab": {}
      },
      "source": [
        "# also allows you to do datetime \"math\"\n",
        "(ufo.Time.max() - ufo.Time.min()).days  "
      ],
      "execution_count": null,
      "outputs": []
    },
    {
      "cell_type": "code",
      "metadata": {
        "id": "pz3aj6b476qZ",
        "colab_type": "code",
        "colab": {}
      },
      "source": [
        "# Create a weekday variable\n",
        "ufo['weekday_name']=ufo['Weekday'].map({0:'0_Sunday',\n",
        "                                       1: '1_Monday',\n",
        "                                       2: '2_Tuesday',\n",
        "                                       3: '3_Wednesday',\n",
        "                                       4: '4_Thursday',\n",
        "                                       5: '5_Friday',\n",
        "                                       6: '6_Saturday'})\n",
        "ufo.head()"
      ],
      "execution_count": null,
      "outputs": []
    },
    {
      "cell_type": "code",
      "metadata": {
        "id": "H_KQkMFc76qb",
        "colab_type": "code",
        "colab": {}
      },
      "source": [
        "# Set the Time variable as the dataframe index (This will make plotting timelines easier)\n",
        "# ufo=ufo.set_index('Time')"
      ],
      "execution_count": null,
      "outputs": []
    },
    {
      "cell_type": "code",
      "metadata": {
        "id": "D_UU0FGg76qe",
        "colab_type": "code",
        "colab": {}
      },
      "source": [
        "# which dates were the most frequent ufo sightings?\n",
        "ufo['Date'].value_counts(ascending=False).head(5)"
      ],
      "execution_count": null,
      "outputs": []
    },
    {
      "cell_type": "code",
      "metadata": {
        "id": "xDw6Po3176qi",
        "colab_type": "code",
        "colab": {}
      },
      "source": [
        "# Create a variable to count the number of sightings by date\n",
        "ufo['sightings']=1\n",
        "dates = ufo.groupby('Date')['sightings'].sum()\n",
        "ufo = ufo.drop('sightings', axis=1)\n",
        "dates.sort_values(ascending=False).head()"
      ],
      "execution_count": null,
      "outputs": []
    },
    {
      "cell_type": "code",
      "metadata": {
        "id": "-XPyE-_t76qn",
        "colab_type": "code",
        "colab": {}
      },
      "source": [
        "# Create a new dataframe of sightings\n",
        "dates_df = pd.DataFrame(dates)\n",
        "dates_df= dates_df.reset_index()\n",
        "dates_df.sort_values('sightings', ascending=False).head()"
      ],
      "execution_count": null,
      "outputs": []
    },
    {
      "cell_type": "code",
      "metadata": {
        "id": "DNO2sxeo76qt",
        "colab_type": "code",
        "colab": {}
      },
      "source": [
        "# Merge the daily number of sightings back into the original datafram\n",
        "ufo2 = pd.merge(ufo, dates_df, on='Date', how='left')\n",
        "ufo2.head()"
      ],
      "execution_count": null,
      "outputs": []
    },
    {
      "cell_type": "code",
      "metadata": {
        "id": "qrYHjQOX76qw",
        "colab_type": "code",
        "colab": {}
      },
      "source": [
        "# Trend over years\n",
        "sns.set(rc={'figure.figsize':(18, 6)})\n",
        "sns.lineplot(x='Year', y='sightings', data=ufo2);"
      ],
      "execution_count": null,
      "outputs": []
    },
    {
      "cell_type": "code",
      "metadata": {
        "id": "D_0-oddb76qz",
        "colab_type": "code",
        "colab": {}
      },
      "source": [
        "# Trend over weekday\n",
        "\n",
        "sns.lineplot(x='weekday_name', y='sightings', data=ufo2, ci=None);"
      ],
      "execution_count": null,
      "outputs": []
    },
    {
      "cell_type": "code",
      "metadata": {
        "id": "ON2YIpXR76q1",
        "colab_type": "code",
        "colab": {}
      },
      "source": [
        "# Trend over time of day\n",
        "\n",
        "sns.lineplot(x='Hour', y='sightings', data=ufo2);"
      ],
      "execution_count": null,
      "outputs": []
    },
    {
      "cell_type": "code",
      "metadata": {
        "id": "pFzGHomd76q4",
        "colab_type": "code",
        "colab": {}
      },
      "source": [
        "# Trend over month\n",
        "\n",
        "sns.lineplot(x='Month', y='sightings', data=ufo2);"
      ],
      "execution_count": null,
      "outputs": []
    },
    {
      "cell_type": "code",
      "metadata": {
        "id": "yos8Rbuv76q7",
        "colab_type": "code",
        "colab": {}
      },
      "source": [
        "# Shorten the color categories\n",
        "print(ufo['Colors Reported'].value_counts().head(5))\n",
        "ufo['color']='other'\n",
        "ufo.loc[ufo['Colors Reported']=='ORANGE', 'color']='orange'\n",
        "ufo.loc[ufo['Colors Reported']=='RED', 'color']='red'\n",
        "ufo.loc[ufo['Colors Reported']=='GREEN', 'color']='green'\n",
        "ufo.head()"
      ],
      "execution_count": null,
      "outputs": []
    },
    {
      "cell_type": "code",
      "metadata": {
        "id": "asyzBOHI76q9",
        "colab_type": "code",
        "colab": {}
      },
      "source": [
        "# Alternative: create new columns for specific colors\n",
        "import numpy as np\n",
        "print(ufo['Colors Reported'].value_counts().head(5))\n",
        "ufo['orange']=np.where(ufo['Colors Reported']=='ORANGE', 1, 0)\n",
        "ufo['red']=np.where(ufo['Colors Reported']=='RED', 1, 0)\n",
        "ufo['green']=np.where(ufo['Colors Reported']=='GREEN', 1, 0)\n",
        "ufo['other_color']=np.where(ufo['orange']+ufo['red']+ufo['green']==0, 1, 0)\n",
        "ufo.head()"
      ],
      "execution_count": null,
      "outputs": []
    },
    {
      "cell_type": "code",
      "metadata": {
        "id": "-4H6mB1h76q_",
        "colab_type": "code",
        "colab": {}
      },
      "source": [
        "# Collapse the dataframe on color and date\n",
        "ufo['sighting']=1\n",
        "dates = ufo.groupby(['Year', 'color'])['sighting'].sum()\n",
        "dates_df = pd.DataFrame(dates)\n",
        "dates_df= dates_df.reset_index()\n",
        "dates_df.head()\n",
        "dates_df[dates_df['Year']==2009]"
      ],
      "execution_count": null,
      "outputs": []
    },
    {
      "cell_type": "code",
      "metadata": {
        "id": "OhfXe0oV76rB",
        "colab_type": "code",
        "colab": {}
      },
      "source": [
        "# Restrict the dataset (makes the chart easier to read)\n",
        "dates_df2=dates_df.loc[(dates_df['Year']>2000) & (dates_df['Year']<2015) & (dates_df['color']!='other')]"
      ],
      "execution_count": null,
      "outputs": []
    },
    {
      "cell_type": "code",
      "metadata": {
        "id": "Q_H_uz0n76rD",
        "colab_type": "code",
        "colab": {}
      },
      "source": [
        "# Plot the lines\n",
        "sns.set(rc={'figure.figsize':(18, 6)})\n",
        "sns.lineplot(x=\"Year\", y=\"sighting\", hue=\"color\", data=dates_df2);"
      ],
      "execution_count": null,
      "outputs": []
    },
    {
      "cell_type": "markdown",
      "metadata": {
        "id": "lY-fcL8X76rG",
        "colab_type": "text"
      },
      "source": [
        "### All over again, with shapes"
      ]
    },
    {
      "cell_type": "code",
      "metadata": {
        "id": "6M-DR2cp76rG",
        "colab_type": "code",
        "colab": {}
      },
      "source": [
        "# Collapse the dataframe on shape and date\n",
        "ufo['sighting']=1\n",
        "dates = ufo.groupby(['Year', 'Shape Reported'])['sighting'].sum()\n",
        "dates_df = pd.DataFrame(dates)\n",
        "dates_df= dates_df.reset_index()\n",
        "dates_df.head()\n",
        "dates_df[dates_df['Year']==1995].head()"
      ],
      "execution_count": null,
      "outputs": []
    },
    {
      "cell_type": "code",
      "metadata": {
        "id": "ev84HrV976rI",
        "colab_type": "code",
        "colab": {}
      },
      "source": [
        "# What are the most frequent shapes?\n",
        "dates_df['Shape Reported'].value_counts().sort_values(ascending=False).head()"
      ],
      "execution_count": null,
      "outputs": []
    },
    {
      "cell_type": "code",
      "metadata": {
        "id": "qsr2UYD876rK",
        "colab_type": "code",
        "colab": {}
      },
      "source": [
        "test=pd.read_csv(Path.joinpath(Path.cwd().parent, 'data', 'ufo.csv'))\n",
        "test.columns"
      ],
      "execution_count": null,
      "outputs": []
    },
    {
      "cell_type": "code",
      "metadata": {
        "id": "lOl-v9c876rM",
        "colab_type": "code",
        "colab": {}
      },
      "source": [
        "test['Shape Reported'].value_counts().sort_values(ascending=False).head()"
      ],
      "execution_count": null,
      "outputs": []
    },
    {
      "cell_type": "code",
      "metadata": {
        "id": "AZALd04G76rP",
        "colab_type": "code",
        "colab": {}
      },
      "source": [
        "# Shorten the list of shapes.\n",
        "def map_shapes(row):\n",
        "    if row in ['LIGHT', 'CIRCLE', 'FIREBALL', 'TRIANGLE', 'SPHERE']:\n",
        "        return row\n",
        "    else:\n",
        "        return 'OTHER'\n",
        "\n",
        "test['Shape']=test['Shape Reported'].apply(map_shapes)\n",
        "test['Shape'].value_counts()"
      ],
      "execution_count": null,
      "outputs": []
    },
    {
      "cell_type": "code",
      "metadata": {
        "id": "iPYlApwJ76rR",
        "colab_type": "code",
        "colab": {}
      },
      "source": [
        "test['sighting']=1\n",
        "# convert a string to the datetime format\n",
        "test['Time'] = pd.to_datetime(ufo['Time'])\n",
        "test['Year']=test['Time'].dt.year\n",
        "test.head()"
      ],
      "execution_count": null,
      "outputs": []
    },
    {
      "cell_type": "code",
      "metadata": {
        "id": "fB58OVs276rT",
        "colab_type": "code",
        "colab": {}
      },
      "source": [
        "test=test[test['Year']>2000]\n",
        "test.shape\n",
        "# test.to_csv('ufo_sightings.csv', index=False)"
      ],
      "execution_count": null,
      "outputs": []
    },
    {
      "cell_type": "code",
      "metadata": {
        "id": "lz4AwUKh76rW",
        "colab_type": "code",
        "colab": {}
      },
      "source": [
        "test.head()"
      ],
      "execution_count": null,
      "outputs": []
    },
    {
      "cell_type": "code",
      "metadata": {
        "id": "MQ98opN176rZ",
        "colab_type": "code",
        "colab": {}
      },
      "source": [
        "dates = test.groupby(['Year', 'Shape'])['sighting'].sum()\n",
        "dates_df = pd.DataFrame(dates)\n",
        "dates_df.head()"
      ],
      "execution_count": null,
      "outputs": []
    },
    {
      "cell_type": "code",
      "metadata": {
        "id": "ggstB4fk76rb",
        "colab_type": "code",
        "colab": {}
      },
      "source": [
        "# Set the year to the index\n",
        "dates_df= dates_df.reset_index()\n",
        "\n",
        "dates_df.head()"
      ],
      "execution_count": null,
      "outputs": []
    },
    {
      "cell_type": "code",
      "metadata": {
        "id": "sVBOip3576rc",
        "colab_type": "code",
        "colab": {}
      },
      "source": [
        "dates_df[dates_df['Shape']=='CIRCLE'].groupby(['Year'])['sighting'].mean().plot()\n",
        "dates_df[dates_df['Shape']=='FIREBALL'].groupby(['Year'])['sighting'].mean().plot()"
      ],
      "execution_count": null,
      "outputs": []
    },
    {
      "cell_type": "code",
      "metadata": {
        "id": "rhcbLyTR76re",
        "colab_type": "code",
        "colab": {}
      },
      "source": [
        "for shape in ['LIGHT', 'CIRCLE', 'FIREBALL', 'TRIANGLE', 'SPHERE', 'OTHER']:\n",
        "    dates_df[dates_df['Shape']==shape].groupby(['Year'])['sighting'].mean().plot()"
      ],
      "execution_count": null,
      "outputs": []
    },
    {
      "cell_type": "code",
      "metadata": {
        "id": "-fkksq9h76rh",
        "colab_type": "code",
        "colab": {}
      },
      "source": [
        "# Plot the lines\n",
        "sns.set(rc={'figure.figsize':(18, 6)})\n",
        "sns.lineplot(x=\"Year\", y=\"sighting\", hue=\"Shape\", data=dates_df);"
      ],
      "execution_count": null,
      "outputs": []
    },
    {
      "cell_type": "markdown",
      "metadata": {
        "id": "mHfZfzxA76rl",
        "colab_type": "text"
      },
      "source": [
        "## Summary"
      ]
    },
    {
      "cell_type": "code",
      "metadata": {
        "id": "6J4iogli76rm",
        "colab_type": "code",
        "colab": {}
      },
      "source": [
        "ufo = pd.read_csv(Path.joinpath(Path.cwd().parent, 'data', 'ufo.csv'))\n",
        "# convert a string to the datetime format\n",
        "ufo['Time'] = pd.to_datetime(ufo['Time'])\n",
        "ufo['Time'].dtype \n",
        "# create new time variables\n",
        "ufo['Date'] = ufo['Time'].dt.date\n",
        "ufo['Year']=ufo['Time'].dt.year \n",
        "ufo['Month']=ufo['Time'].dt.month \n",
        "ufo['Day']=ufo['Time'].dt.day \n",
        "ufo['Hour']=ufo['Time'].dt.hour \n",
        "ufo['Weekday']=ufo['Time'].dt.weekday \n",
        "# also allows you to do datetime \"math\"\n",
        "(ufo.Time.max() - ufo.Time.min()).days  \n",
        "# which dates were the most frequent ufo sightings?\n",
        "ufo['Date'].value_counts(ascending=False).head(5)\n",
        "# Create a variable to count the number of sightings by date\n",
        "ufo['sightings']=1\n",
        "dates = ufo.groupby('Date')['sightings'].sum()\n",
        "ufo = ufo.drop('sightings', axis=1)\n",
        "# Merge the original and grouped datasets\n",
        "dates_df = pd.DataFrame(dates)\n",
        "dates_df= dates_df.reset_index()\n",
        "ufo2 = pd.merge(ufo, dates_df, on='Date', how='left')\n",
        "# Line charts\n",
        "sns.set(rc={'figure.figsize':(18, 6)})\n",
        "sns.lineplot(x='Year', y='sightings', data=ufo2);\n",
        "sns.lineplot(x='weekday_name', y='sightings', data=ufo2, ci=None);\n",
        "sns.lineplot(x='Hour', y='sightings', data=ufo2);\n",
        "sns.lineplot(x='Month', y='sightings', data=ufo2);\n",
        "# Shorten the color categories\n",
        "print(ufo['Colors Reported'].value_counts().head(5))\n",
        "ufo['color']='other'\n",
        "ufo.loc[ufo['Colors Reported']=='ORANGE', 'color']='orange'\n",
        "ufo.loc[ufo['Colors Reported']=='RED', 'color']='red'\n",
        "ufo.loc[ufo['Colors Reported']=='GREEN', 'color']='green'\n",
        "# Collapse the dataframe on color and date\n",
        "ufo['sighting']=1\n",
        "dates = ufo.groupby(['Year', 'color'])['sighting'].sum()\n",
        "dates_df = pd.DataFrame(dates)\n",
        "dates_df= dates_df.reset_index()\n",
        "dates_df.head()\n",
        "dates_df[dates_df['Year']==2009]\n",
        "# Plot the lines\n",
        "sns.set(rc={'figure.figsize':(18, 6)})\n",
        "sns.lineplot(x=\"Year\", y=\"sighting\", hue=\"color\", data=dates_df2);"
      ],
      "execution_count": null,
      "outputs": []
    },
    {
      "cell_type": "code",
      "metadata": {
        "id": "w27m4-4e76ro",
        "colab_type": "code",
        "colab": {}
      },
      "source": [
        ""
      ],
      "execution_count": null,
      "outputs": []
    }
  ]
}